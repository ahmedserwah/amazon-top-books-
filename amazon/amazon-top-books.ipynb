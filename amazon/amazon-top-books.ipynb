{
 "cells": [
  {
   "cell_type": "code",
   "execution_count": 1,
   "id": "0e88b5c6",
   "metadata": {
    "execution": {
     "iopub.execute_input": "2021-07-11T21:24:21.519961Z",
     "iopub.status.busy": "2021-07-11T21:24:21.518768Z",
     "iopub.status.idle": "2021-07-11T21:24:22.505441Z",
     "shell.execute_reply": "2021-07-11T21:24:22.504661Z",
     "shell.execute_reply.started": "2021-07-11T21:20:01.871147Z"
    },
    "papermill": {
     "duration": 1.016563,
     "end_time": "2021-07-11T21:24:22.505628",
     "exception": false,
     "start_time": "2021-07-11T21:24:21.489065",
     "status": "completed"
    },
    "tags": []
   },
   "outputs": [],
   "source": [
    "#import libariries\n",
    "import pandas as pd \n",
    "import numpy as np\n",
    "import matplotlib.pyplot as plt\n",
    "import seaborn as sb\n",
    "%matplotlib inline"
   ]
  },
  {
   "cell_type": "code",
   "execution_count": 2,
   "id": "c61cdd40",
   "metadata": {
    "execution": {
     "iopub.execute_input": "2021-07-11T21:24:22.564219Z",
     "iopub.status.busy": "2021-07-11T21:24:22.563544Z",
     "iopub.status.idle": "2021-07-11T21:24:22.592003Z",
     "shell.execute_reply": "2021-07-11T21:24:22.591394Z",
     "shell.execute_reply.started": "2021-07-11T21:20:01.893762Z"
    },
    "papermill": {
     "duration": 0.059563,
     "end_time": "2021-07-11T21:24:22.592155",
     "exception": false,
     "start_time": "2021-07-11T21:24:22.532592",
     "status": "completed"
    },
    "tags": []
   },
   "outputs": [],
   "source": [
    "df=pd.read_csv('../input/amazon-top-50-bestselling-books-2009-2019/bestsellers with categories.csv')"
   ]
  },
  {
   "cell_type": "code",
   "execution_count": 3,
   "id": "a94f8ab1",
   "metadata": {
    "execution": {
     "iopub.execute_input": "2021-07-11T21:24:22.654641Z",
     "iopub.status.busy": "2021-07-11T21:24:22.653896Z",
     "iopub.status.idle": "2021-07-11T21:24:22.675229Z",
     "shell.execute_reply": "2021-07-11T21:24:22.676198Z",
     "shell.execute_reply.started": "2021-07-11T21:20:01.919787Z"
    },
    "papermill": {
     "duration": 0.059126,
     "end_time": "2021-07-11T21:24:22.676408",
     "exception": false,
     "start_time": "2021-07-11T21:24:22.617282",
     "status": "completed"
    },
    "tags": []
   },
   "outputs": [
    {
     "data": {
      "text/html": [
       "<div>\n",
       "<style scoped>\n",
       "    .dataframe tbody tr th:only-of-type {\n",
       "        vertical-align: middle;\n",
       "    }\n",
       "\n",
       "    .dataframe tbody tr th {\n",
       "        vertical-align: top;\n",
       "    }\n",
       "\n",
       "    .dataframe thead th {\n",
       "        text-align: right;\n",
       "    }\n",
       "</style>\n",
       "<table border=\"1\" class=\"dataframe\">\n",
       "  <thead>\n",
       "    <tr style=\"text-align: right;\">\n",
       "      <th></th>\n",
       "      <th>Name</th>\n",
       "      <th>Author</th>\n",
       "      <th>User Rating</th>\n",
       "      <th>Reviews</th>\n",
       "      <th>Price</th>\n",
       "      <th>Year</th>\n",
       "      <th>Genre</th>\n",
       "    </tr>\n",
       "  </thead>\n",
       "  <tbody>\n",
       "    <tr>\n",
       "      <th>0</th>\n",
       "      <td>10-Day Green Smoothie Cleanse</td>\n",
       "      <td>JJ Smith</td>\n",
       "      <td>4.7</td>\n",
       "      <td>17350</td>\n",
       "      <td>8</td>\n",
       "      <td>2016</td>\n",
       "      <td>Non Fiction</td>\n",
       "    </tr>\n",
       "    <tr>\n",
       "      <th>1</th>\n",
       "      <td>11/22/63: A Novel</td>\n",
       "      <td>Stephen King</td>\n",
       "      <td>4.6</td>\n",
       "      <td>2052</td>\n",
       "      <td>22</td>\n",
       "      <td>2011</td>\n",
       "      <td>Fiction</td>\n",
       "    </tr>\n",
       "    <tr>\n",
       "      <th>2</th>\n",
       "      <td>12 Rules for Life: An Antidote to Chaos</td>\n",
       "      <td>Jordan B. Peterson</td>\n",
       "      <td>4.7</td>\n",
       "      <td>18979</td>\n",
       "      <td>15</td>\n",
       "      <td>2018</td>\n",
       "      <td>Non Fiction</td>\n",
       "    </tr>\n",
       "    <tr>\n",
       "      <th>3</th>\n",
       "      <td>1984 (Signet Classics)</td>\n",
       "      <td>George Orwell</td>\n",
       "      <td>4.7</td>\n",
       "      <td>21424</td>\n",
       "      <td>6</td>\n",
       "      <td>2017</td>\n",
       "      <td>Fiction</td>\n",
       "    </tr>\n",
       "    <tr>\n",
       "      <th>4</th>\n",
       "      <td>5,000 Awesome Facts (About Everything!) (Natio...</td>\n",
       "      <td>National Geographic Kids</td>\n",
       "      <td>4.8</td>\n",
       "      <td>7665</td>\n",
       "      <td>12</td>\n",
       "      <td>2019</td>\n",
       "      <td>Non Fiction</td>\n",
       "    </tr>\n",
       "  </tbody>\n",
       "</table>\n",
       "</div>"
      ],
      "text/plain": [
       "                                                Name  \\\n",
       "0                      10-Day Green Smoothie Cleanse   \n",
       "1                                  11/22/63: A Novel   \n",
       "2            12 Rules for Life: An Antidote to Chaos   \n",
       "3                             1984 (Signet Classics)   \n",
       "4  5,000 Awesome Facts (About Everything!) (Natio...   \n",
       "\n",
       "                     Author  User Rating  Reviews  Price  Year        Genre  \n",
       "0                  JJ Smith          4.7    17350      8  2016  Non Fiction  \n",
       "1              Stephen King          4.6     2052     22  2011      Fiction  \n",
       "2        Jordan B. Peterson          4.7    18979     15  2018  Non Fiction  \n",
       "3             George Orwell          4.7    21424      6  2017      Fiction  \n",
       "4  National Geographic Kids          4.8     7665     12  2019  Non Fiction  "
      ]
     },
     "execution_count": 3,
     "metadata": {},
     "output_type": "execute_result"
    }
   ],
   "source": [
    "df.head()"
   ]
  },
  {
   "cell_type": "code",
   "execution_count": 4,
   "id": "712a4ae8",
   "metadata": {
    "execution": {
     "iopub.execute_input": "2021-07-11T21:24:22.737651Z",
     "iopub.status.busy": "2021-07-11T21:24:22.736924Z",
     "iopub.status.idle": "2021-07-11T21:24:22.740224Z",
     "shell.execute_reply": "2021-07-11T21:24:22.740765Z",
     "shell.execute_reply.started": "2021-07-11T21:20:01.975947Z"
    },
    "papermill": {
     "duration": 0.037578,
     "end_time": "2021-07-11T21:24:22.740946",
     "exception": false,
     "start_time": "2021-07-11T21:24:22.703368",
     "status": "completed"
    },
    "tags": []
   },
   "outputs": [
    {
     "data": {
      "text/plain": [
       "Name           0\n",
       "Author         0\n",
       "User Rating    0\n",
       "Reviews        0\n",
       "Price          0\n",
       "Year           0\n",
       "Genre          0\n",
       "dtype: int64"
      ]
     },
     "execution_count": 4,
     "metadata": {},
     "output_type": "execute_result"
    }
   ],
   "source": [
    "#looking for null values\n",
    "df.isnull().sum()"
   ]
  },
  {
   "cell_type": "code",
   "execution_count": 5,
   "id": "5a72b602",
   "metadata": {
    "execution": {
     "iopub.execute_input": "2021-07-11T21:24:22.797448Z",
     "iopub.status.busy": "2021-07-11T21:24:22.796762Z",
     "iopub.status.idle": "2021-07-11T21:24:22.816545Z",
     "shell.execute_reply": "2021-07-11T21:24:22.817088Z",
     "shell.execute_reply.started": "2021-07-11T21:20:02.041555Z"
    },
    "papermill": {
     "duration": 0.050311,
     "end_time": "2021-07-11T21:24:22.817262",
     "exception": false,
     "start_time": "2021-07-11T21:24:22.766951",
     "status": "completed"
    },
    "tags": []
   },
   "outputs": [
    {
     "name": "stdout",
     "output_type": "stream",
     "text": [
      "<class 'pandas.core.frame.DataFrame'>\n",
      "RangeIndex: 550 entries, 0 to 549\n",
      "Data columns (total 7 columns):\n",
      " #   Column       Non-Null Count  Dtype  \n",
      "---  ------       --------------  -----  \n",
      " 0   Name         550 non-null    object \n",
      " 1   Author       550 non-null    object \n",
      " 2   User Rating  550 non-null    float64\n",
      " 3   Reviews      550 non-null    int64  \n",
      " 4   Price        550 non-null    int64  \n",
      " 5   Year         550 non-null    int64  \n",
      " 6   Genre        550 non-null    object \n",
      "dtypes: float64(1), int64(3), object(3)\n",
      "memory usage: 30.2+ KB\n"
     ]
    }
   ],
   "source": [
    "df.info()"
   ]
  },
  {
   "cell_type": "code",
   "execution_count": 6,
   "id": "62eadf74",
   "metadata": {
    "execution": {
     "iopub.execute_input": "2021-07-11T21:24:22.875764Z",
     "iopub.status.busy": "2021-07-11T21:24:22.875076Z",
     "iopub.status.idle": "2021-07-11T21:24:23.056659Z",
     "shell.execute_reply": "2021-07-11T21:24:23.057187Z",
     "shell.execute_reply.started": "2021-07-11T21:20:02.081997Z"
    },
    "papermill": {
     "duration": 0.211679,
     "end_time": "2021-07-11T21:24:23.057366",
     "exception": false,
     "start_time": "2021-07-11T21:24:22.845687",
     "status": "completed"
    },
    "tags": []
   },
   "outputs": [
    {
     "data": {
      "image/png": "[encoded data removed]",
      "text/plain": [
       "<Figure size 432x288 with 1 Axes>"
      ]
     },
     "metadata": {
      "needs_background": "light"
     },
     "output_type": "display_data"
    }
   ],
   "source": [
    "#plotting a bar chart for qualitative data \n",
    "sb.countplot(data=df,x='Genre');\n",
    "plt.title(\"Genre\");"
   ]
  },
  {
   "cell_type": "markdown",
   "id": "00b71d90",
   "metadata": {
    "papermill": {
     "duration": 0.027718,
     "end_time": "2021-07-11T21:24:23.112685",
     "exception": false,
     "start_time": "2021-07-11T21:24:23.084967",
     "status": "completed"
    },
    "tags": []
   },
   "source": [
    "###  what is the average price?\n"
   ]
  },
  {
   "cell_type": "code",
   "execution_count": 7,
   "id": "25b47cf3",
   "metadata": {
    "execution": {
     "iopub.execute_input": "2021-07-11T21:24:23.170335Z",
     "iopub.status.busy": "2021-07-11T21:24:23.169692Z",
     "iopub.status.idle": "2021-07-11T21:24:23.173604Z",
     "shell.execute_reply": "2021-07-11T21:24:23.174101Z",
     "shell.execute_reply.started": "2021-07-11T21:20:02.243955Z"
    },
    "papermill": {
     "duration": 0.03401,
     "end_time": "2021-07-11T21:24:23.174281",
     "exception": false,
     "start_time": "2021-07-11T21:24:23.140271",
     "status": "completed"
    },
    "tags": []
   },
   "outputs": [],
   "source": [
    "avg_price=df['Price'].mean()"
   ]
  },
  {
   "cell_type": "code",
   "execution_count": 8,
   "id": "501c3ddc",
   "metadata": {
    "execution": {
     "iopub.execute_input": "2021-07-11T21:24:23.231313Z",
     "iopub.status.busy": "2021-07-11T21:24:23.230648Z",
     "iopub.status.idle": "2021-07-11T21:24:23.447327Z",
     "shell.execute_reply": "2021-07-11T21:24:23.446647Z",
     "shell.execute_reply.started": "2021-07-11T21:20:02.253830Z"
    },
    "papermill": {
     "duration": 0.246134,
     "end_time": "2021-07-11T21:24:23.447482",
     "exception": false,
     "start_time": "2021-07-11T21:24:23.201348",
     "status": "completed"
    },
    "tags": []
   },
   "outputs": [
    {
     "name": "stdout",
     "output_type": "stream",
     "text": [
      "the average price is : 13.1 $\n"
     ]
    },
    {
     "data": {
      "image/png": "[encoded data removed]",
      "text/plain": [
       "<Figure size 432x288 with 1 Axes>"
      ]
     },
     "metadata": {
      "needs_background": "light"
     },
     "output_type": "display_data"
    }
   ],
   "source": [
    "print('the average price is :',avg_price,'$')\n",
    "plt.hist(data=df,x='Price');"
   ]
  },
  {
   "cell_type": "markdown",
   "id": "9a748c5e",
   "metadata": {
    "papermill": {
     "duration": 0.028588,
     "end_time": "2021-07-11T21:24:23.503958",
     "exception": false,
     "start_time": "2021-07-11T21:24:23.475370",
     "status": "completed"
    },
    "tags": []
   },
   "source": [
    "### what is the average rating ?"
   ]
  },
  {
   "cell_type": "code",
   "execution_count": 9,
   "id": "c3b4a4fe",
   "metadata": {
    "execution": {
     "iopub.execute_input": "2021-07-11T21:24:23.565674Z",
     "iopub.status.busy": "2021-07-11T21:24:23.564962Z",
     "iopub.status.idle": "2021-07-11T21:24:23.568080Z",
     "shell.execute_reply": "2021-07-11T21:24:23.567606Z",
     "shell.execute_reply.started": "2021-07-11T21:20:02.452234Z"
    },
    "papermill": {
     "duration": 0.035636,
     "end_time": "2021-07-11T21:24:23.568216",
     "exception": false,
     "start_time": "2021-07-11T21:24:23.532580",
     "status": "completed"
    },
    "tags": []
   },
   "outputs": [],
   "source": [
    "avg_rating=df['User Rating'].mean()"
   ]
  },
  {
   "cell_type": "code",
   "execution_count": 10,
   "id": "1da37b34",
   "metadata": {
    "execution": {
     "iopub.execute_input": "2021-07-11T21:24:23.628577Z",
     "iopub.status.busy": "2021-07-11T21:24:23.627886Z",
     "iopub.status.idle": "2021-07-11T21:24:23.845024Z",
     "shell.execute_reply": "2021-07-11T21:24:23.844501Z",
     "shell.execute_reply.started": "2021-07-11T21:20:02.461207Z"
    },
    "papermill": {
     "duration": 0.249013,
     "end_time": "2021-07-11T21:24:23.845166",
     "exception": false,
     "start_time": "2021-07-11T21:24:23.596153",
     "status": "completed"
    },
    "tags": []
   },
   "outputs": [
    {
     "name": "stdout",
     "output_type": "stream",
     "text": [
      "the average rating is : 4.618363636363641\n"
     ]
    },
    {
     "data": {
      "image/png": "[encoded data removed]",
      "text/plain": [
       "<Figure size 432x288 with 1 Axes>"
      ]
     },
     "metadata": {
      "needs_background": "light"
     },
     "output_type": "display_data"
    }
   ],
   "source": [
    "print('the average rating is :',avg_rating)\n",
    "plt.hist(data=df,x='User Rating');"
   ]
  },
  {
   "cell_type": "markdown",
   "id": "9449a798",
   "metadata": {
    "papermill": {
     "duration": 0.029013,
     "end_time": "2021-07-11T21:24:23.902982",
     "exception": false,
     "start_time": "2021-07-11T21:24:23.873969",
     "status": "completed"
    },
    "tags": []
   },
   "source": [
    "###  what is the averge Reviews\n"
   ]
  },
  {
   "cell_type": "code",
   "execution_count": 11,
   "id": "06318ab5",
   "metadata": {
    "execution": {
     "iopub.execute_input": "2021-07-11T21:24:23.968008Z",
     "iopub.status.busy": "2021-07-11T21:24:23.967180Z",
     "iopub.status.idle": "2021-07-11T21:24:23.970067Z",
     "shell.execute_reply": "2021-07-11T21:24:23.969576Z",
     "shell.execute_reply.started": "2021-07-11T21:20:02.687190Z"
    },
    "papermill": {
     "duration": 0.037072,
     "end_time": "2021-07-11T21:24:23.970204",
     "exception": false,
     "start_time": "2021-07-11T21:24:23.933132",
     "status": "completed"
    },
    "tags": []
   },
   "outputs": [],
   "source": [
    "avg_rev=df['Reviews'].mean()"
   ]
  },
  {
   "cell_type": "code",
   "execution_count": 12,
   "id": "afc1f1b6",
   "metadata": {
    "execution": {
     "iopub.execute_input": "2021-07-11T21:24:24.058629Z",
     "iopub.status.busy": "2021-07-11T21:24:24.056488Z",
     "iopub.status.idle": "2021-07-11T21:24:24.210773Z",
     "shell.execute_reply": "2021-07-11T21:24:24.211268Z",
     "shell.execute_reply.started": "2021-07-11T21:20:02.698344Z"
    },
    "papermill": {
     "duration": 0.212519,
     "end_time": "2021-07-11T21:24:24.211443",
     "exception": false,
     "start_time": "2021-07-11T21:24:23.998924",
     "status": "completed"
    },
    "tags": []
   },
   "outputs": [
    {
     "name": "stdout",
     "output_type": "stream",
     "text": [
      "the average rating is : 11953.281818181818 K\n"
     ]
    },
    {
     "data": {
      "image/png": "[encoded data removed]",
      "text/plain": [
       "<Figure size 432x288 with 1 Axes>"
      ]
     },
     "metadata": {
      "needs_background": "light"
     },
     "output_type": "display_data"
    }
   ],
   "source": [
    "print('the average rating is :',avg_rev,'K')\n",
    "plt.hist(data=df,x='Reviews');"
   ]
  },
  {
   "cell_type": "code",
   "execution_count": 13,
   "id": "e539d6d4",
   "metadata": {
    "execution": {
     "iopub.execute_input": "2021-07-11T21:24:24.276977Z",
     "iopub.status.busy": "2021-07-11T21:24:24.276325Z",
     "iopub.status.idle": "2021-07-11T21:24:24.281484Z",
     "shell.execute_reply": "2021-07-11T21:24:24.281970Z",
     "shell.execute_reply.started": "2021-07-11T21:20:02.890243Z"
    },
    "papermill": {
     "duration": 0.041118,
     "end_time": "2021-07-11T21:24:24.282134",
     "exception": false,
     "start_time": "2021-07-11T21:24:24.241016",
     "status": "completed"
    },
    "tags": []
   },
   "outputs": [
    {
     "data": {
      "text/plain": [
       "87841"
      ]
     },
     "execution_count": 13,
     "metadata": {},
     "output_type": "execute_result"
    }
   ],
   "source": [
    "df['Reviews'].max()"
   ]
  },
  {
   "cell_type": "code",
   "execution_count": 14,
   "id": "b791fa38",
   "metadata": {
    "execution": {
     "iopub.execute_input": "2021-07-11T21:24:24.345718Z",
     "iopub.status.busy": "2021-07-11T21:24:24.345082Z",
     "iopub.status.idle": "2021-07-11T21:24:24.350027Z",
     "shell.execute_reply": "2021-07-11T21:24:24.350515Z",
     "shell.execute_reply.started": "2021-07-11T21:20:02.902461Z"
    },
    "papermill": {
     "duration": 0.038498,
     "end_time": "2021-07-11T21:24:24.350675",
     "exception": false,
     "start_time": "2021-07-11T21:24:24.312177",
     "status": "completed"
    },
    "tags": []
   },
   "outputs": [
    {
     "data": {
      "text/plain": [
       "4.9"
      ]
     },
     "execution_count": 14,
     "metadata": {},
     "output_type": "execute_result"
    }
   ],
   "source": [
    "df['User Rating'].max()"
   ]
  },
  {
   "cell_type": "code",
   "execution_count": 15,
   "id": "2d55f724",
   "metadata": {
    "execution": {
     "iopub.execute_input": "2021-07-11T21:24:24.414889Z",
     "iopub.status.busy": "2021-07-11T21:24:24.414208Z",
     "iopub.status.idle": "2021-07-11T21:24:24.419097Z",
     "shell.execute_reply": "2021-07-11T21:24:24.419607Z",
     "shell.execute_reply.started": "2021-07-11T21:20:02.918849Z"
    },
    "papermill": {
     "duration": 0.038398,
     "end_time": "2021-07-11T21:24:24.419782",
     "exception": false,
     "start_time": "2021-07-11T21:24:24.381384",
     "status": "completed"
    },
    "tags": []
   },
   "outputs": [
    {
     "data": {
      "text/plain": [
       "105"
      ]
     },
     "execution_count": 15,
     "metadata": {},
     "output_type": "execute_result"
    }
   ],
   "source": [
    "df['Price'].max()"
   ]
  },
  {
   "cell_type": "code",
   "execution_count": 16,
   "id": "1a84339f",
   "metadata": {
    "execution": {
     "iopub.execute_input": "2021-07-11T21:24:24.485242Z",
     "iopub.status.busy": "2021-07-11T21:24:24.484529Z",
     "iopub.status.idle": "2021-07-11T21:24:24.505595Z",
     "shell.execute_reply": "2021-07-11T21:24:24.504980Z",
     "shell.execute_reply.started": "2021-07-11T21:20:02.934495Z"
    },
    "papermill": {
     "duration": 0.054593,
     "end_time": "2021-07-11T21:24:24.505746",
     "exception": false,
     "start_time": "2021-07-11T21:24:24.451153",
     "status": "completed"
    },
    "tags": []
   },
   "outputs": [],
   "source": [
    "# plotting the top rated book into separate data frame\n",
    "df_top=df[df['User Rating']== 4.9].head()"
   ]
  },
  {
   "cell_type": "code",
   "execution_count": 17,
   "id": "21b83e21",
   "metadata": {
    "execution": {
     "iopub.execute_input": "2021-07-11T21:24:24.572173Z",
     "iopub.status.busy": "2021-07-11T21:24:24.571537Z",
     "iopub.status.idle": "2021-07-11T21:24:24.585037Z",
     "shell.execute_reply": "2021-07-11T21:24:24.585613Z",
     "shell.execute_reply.started": "2021-07-11T21:20:02.956191Z"
    },
    "papermill": {
     "duration": 0.047325,
     "end_time": "2021-07-11T21:24:24.585823",
     "exception": false,
     "start_time": "2021-07-11T21:24:24.538498",
     "status": "completed"
    },
    "tags": []
   },
   "outputs": [
    {
     "data": {
      "text/html": [
       "<div>\n",
       "<style scoped>\n",
       "    .dataframe tbody tr th:only-of-type {\n",
       "        vertical-align: middle;\n",
       "    }\n",
       "\n",
       "    .dataframe tbody tr th {\n",
       "        vertical-align: top;\n",
       "    }\n",
       "\n",
       "    .dataframe thead th {\n",
       "        text-align: right;\n",
       "    }\n",
       "</style>\n",
       "<table border=\"1\" class=\"dataframe\">\n",
       "  <thead>\n",
       "    <tr style=\"text-align: right;\">\n",
       "      <th></th>\n",
       "      <th>Name</th>\n",
       "      <th>Author</th>\n",
       "      <th>User Rating</th>\n",
       "      <th>Reviews</th>\n",
       "      <th>Price</th>\n",
       "      <th>Year</th>\n",
       "      <th>Genre</th>\n",
       "    </tr>\n",
       "  </thead>\n",
       "  <tbody>\n",
       "    <tr>\n",
       "      <th>40</th>\n",
       "      <td>Brown Bear, Brown Bear, What Do You See?</td>\n",
       "      <td>Bill Martin Jr.</td>\n",
       "      <td>4.9</td>\n",
       "      <td>14344</td>\n",
       "      <td>5</td>\n",
       "      <td>2017</td>\n",
       "      <td>Fiction</td>\n",
       "    </tr>\n",
       "    <tr>\n",
       "      <th>41</th>\n",
       "      <td>Brown Bear, Brown Bear, What Do You See?</td>\n",
       "      <td>Bill Martin Jr.</td>\n",
       "      <td>4.9</td>\n",
       "      <td>14344</td>\n",
       "      <td>5</td>\n",
       "      <td>2019</td>\n",
       "      <td>Fiction</td>\n",
       "    </tr>\n",
       "    <tr>\n",
       "      <th>81</th>\n",
       "      <td>Dog Man and Cat Kid: From the Creator of Capta...</td>\n",
       "      <td>Dav Pilkey</td>\n",
       "      <td>4.9</td>\n",
       "      <td>5062</td>\n",
       "      <td>6</td>\n",
       "      <td>2018</td>\n",
       "      <td>Fiction</td>\n",
       "    </tr>\n",
       "    <tr>\n",
       "      <th>82</th>\n",
       "      <td>Dog Man: A Tale of Two Kitties: From the Creat...</td>\n",
       "      <td>Dav Pilkey</td>\n",
       "      <td>4.9</td>\n",
       "      <td>4786</td>\n",
       "      <td>8</td>\n",
       "      <td>2017</td>\n",
       "      <td>Fiction</td>\n",
       "    </tr>\n",
       "    <tr>\n",
       "      <th>83</th>\n",
       "      <td>Dog Man: Brawl of the Wild: From the Creator o...</td>\n",
       "      <td>Dav Pilkey</td>\n",
       "      <td>4.9</td>\n",
       "      <td>7235</td>\n",
       "      <td>4</td>\n",
       "      <td>2018</td>\n",
       "      <td>Fiction</td>\n",
       "    </tr>\n",
       "  </tbody>\n",
       "</table>\n",
       "</div>"
      ],
      "text/plain": [
       "                                                 Name           Author  \\\n",
       "40           Brown Bear, Brown Bear, What Do You See?  Bill Martin Jr.   \n",
       "41           Brown Bear, Brown Bear, What Do You See?  Bill Martin Jr.   \n",
       "81  Dog Man and Cat Kid: From the Creator of Capta...       Dav Pilkey   \n",
       "82  Dog Man: A Tale of Two Kitties: From the Creat...       Dav Pilkey   \n",
       "83  Dog Man: Brawl of the Wild: From the Creator o...       Dav Pilkey   \n",
       "\n",
       "    User Rating  Reviews  Price  Year    Genre  \n",
       "40          4.9    14344      5  2017  Fiction  \n",
       "41          4.9    14344      5  2019  Fiction  \n",
       "81          4.9     5062      6  2018  Fiction  \n",
       "82          4.9     4786      8  2017  Fiction  \n",
       "83          4.9     7235      4  2018  Fiction  "
      ]
     },
     "execution_count": 17,
     "metadata": {},
     "output_type": "execute_result"
    }
   ],
   "source": [
    "df_top.head()"
   ]
  },
  {
   "cell_type": "code",
   "execution_count": 18,
   "id": "40e58f4d",
   "metadata": {
    "execution": {
     "iopub.execute_input": "2021-07-11T21:24:24.652666Z",
     "iopub.status.busy": "2021-07-11T21:24:24.651968Z",
     "iopub.status.idle": "2021-07-11T21:24:24.876107Z",
     "shell.execute_reply": "2021-07-11T21:24:24.876618Z",
     "shell.execute_reply.started": "2021-07-11T21:20:02.979317Z"
    },
    "papermill": {
     "duration": 0.259437,
     "end_time": "2021-07-11T21:24:24.876804",
     "exception": false,
     "start_time": "2021-07-11T21:24:24.617367",
     "status": "completed"
    },
    "tags": []
   },
   "outputs": [
    {
     "data": {
      "image/png": "[encoded data removed]",
      "text/plain": [
       "<Figure size 432x288 with 1 Axes>"
      ]
     },
     "metadata": {
      "needs_background": "light"
     },
     "output_type": "display_data"
    }
   ],
   "source": [
    "sb.countplot(data=df_top,y='Name');\n",
    "plt.title('top 5');"
   ]
  },
  {
   "cell_type": "markdown",
   "id": "78ca23a2",
   "metadata": {
    "papermill": {
     "duration": 0.033467,
     "end_time": "2021-07-11T21:24:24.943689",
     "exception": false,
     "start_time": "2021-07-11T21:24:24.910222",
     "status": "completed"
    },
    "tags": []
   },
   "source": [
    "**the same books occurs twice in two diffrent years so we have to detemine another way to select the best book , so will choose the year that have the highest user ratings to insure there is no bias also the top 5 in the same Genre .**"
   ]
  },
  {
   "cell_type": "code",
   "execution_count": 19,
   "id": "673ac778",
   "metadata": {
    "execution": {
     "iopub.execute_input": "2021-07-11T21:24:25.013325Z",
     "iopub.status.busy": "2021-07-11T21:24:25.011896Z",
     "iopub.status.idle": "2021-07-11T21:24:25.026377Z",
     "shell.execute_reply": "2021-07-11T21:24:25.025788Z",
     "shell.execute_reply.started": "2021-07-11T21:21:45.831970Z"
    },
    "papermill": {
     "duration": 0.050439,
     "end_time": "2021-07-11T21:24:25.026708",
     "exception": false,
     "start_time": "2021-07-11T21:24:24.976269",
     "status": "completed"
    },
    "tags": []
   },
   "outputs": [
    {
     "data": {
      "text/plain": [
       "Year\n",
       "2009     4710.12\n",
       "2010     5479.62\n",
       "2011     8100.82\n",
       "2012    13090.92\n",
       "2013    13098.14\n",
       "2014    15859.94\n",
       "2015    14233.38\n",
       "2016    14196.00\n",
       "2017    12888.40\n",
       "2018    13930.42\n",
       "2019    15898.34\n",
       "Name: Reviews, dtype: float64"
      ]
     },
     "execution_count": 19,
     "metadata": {},
     "output_type": "execute_result"
    }
   ],
   "source": [
    "# to know the highest year in revs numbers\n",
    "df.groupby('Year').mean()['Reviews']"
   ]
  },
  {
   "cell_type": "markdown",
   "id": "681341bd",
   "metadata": {
    "execution": {
     "iopub.execute_input": "2021-07-11T21:23:48.043722Z",
     "iopub.status.busy": "2021-07-11T21:23:48.043276Z",
     "iopub.status.idle": "2021-07-11T21:23:48.052075Z",
     "shell.execute_reply": "2021-07-11T21:23:48.050316Z",
     "shell.execute_reply.started": "2021-07-11T21:23:48.043687Z"
    },
    "papermill": {
     "duration": 0.03304,
     "end_time": "2021-07-11T21:24:25.092909",
     "exception": false,
     "start_time": "2021-07-11T21:24:25.059869",
     "status": "completed"
    },
    "tags": []
   },
   "source": [
    "**2019 is the highest so based on this [Brown Bear, Brown Bear, What Do You See?] is the top rated book.**"
   ]
  },
  {
   "cell_type": "code",
   "execution_count": 20,
   "id": "8278214a",
   "metadata": {
    "execution": {
     "iopub.execute_input": "2021-07-11T21:24:25.174779Z",
     "iopub.status.busy": "2021-07-11T21:24:25.169454Z",
     "iopub.status.idle": "2021-07-11T21:24:26.178058Z",
     "shell.execute_reply": "2021-07-11T21:24:26.177388Z",
     "shell.execute_reply.started": "2021-07-11T21:20:03.482103Z"
    },
    "papermill": {
     "duration": 1.052315,
     "end_time": "2021-07-11T21:24:26.178201",
     "exception": false,
     "start_time": "2021-07-11T21:24:25.125886",
     "status": "completed"
    },
    "tags": []
   },
   "outputs": [
    {
     "data": {
      "image/png": "[encoded data removed]",
      "text/plain": [
       "<Figure size 576x576 with 1 Axes>"
      ]
     },
     "metadata": {
      "needs_background": "light"
     },
     "output_type": "display_data"
    }
   ],
   "source": [
    "#change in price over the years \n",
    "plt.figure(figsize=(8,8))\n",
    "sb.lineplot(data=df,x='Year',y='Price',hue='Genre');\n",
    "plt.title('CHANGE IN PRICE OVER THE YEARS');"
   ]
  },
  {
   "cell_type": "markdown",
   "id": "117e07f0",
   "metadata": {
    "execution": {
     "iopub.execute_input": "2021-07-11T21:14:24.813114Z",
     "iopub.status.busy": "2021-07-11T21:14:24.812673Z",
     "iopub.status.idle": "2021-07-11T21:14:24.820305Z",
     "shell.execute_reply": "2021-07-11T21:14:24.818515Z",
     "shell.execute_reply.started": "2021-07-11T21:14:24.813078Z"
    },
    "papermill": {
     "duration": 0.035503,
     "end_time": "2021-07-11T21:24:26.248336",
     "exception": false,
     "start_time": "2021-07-11T21:24:26.212833",
     "status": "completed"
    },
    "tags": []
   },
   "source": [
    "**over the year NON-fiction books have higher prices than fiction books**"
   ]
  },
  {
   "cell_type": "code",
   "execution_count": 21,
   "id": "f592ebd1",
   "metadata": {
    "execution": {
     "iopub.execute_input": "2021-07-11T21:24:26.320822Z",
     "iopub.status.busy": "2021-07-11T21:24:26.320157Z",
     "iopub.status.idle": "2021-07-11T21:24:27.350122Z",
     "shell.execute_reply": "2021-07-11T21:24:27.349562Z",
     "shell.execute_reply.started": "2021-07-11T21:20:04.433005Z"
    },
    "papermill": {
     "duration": 1.067093,
     "end_time": "2021-07-11T21:24:27.350263",
     "exception": false,
     "start_time": "2021-07-11T21:24:26.283170",
     "status": "completed"
    },
    "tags": []
   },
   "outputs": [
    {
     "data": {
      "image/png": "[encoded data removed]",
      "text/plain": [
       "<Figure size 576x576 with 1 Axes>"
      ]
     },
     "metadata": {
      "needs_background": "light"
     },
     "output_type": "display_data"
    }
   ],
   "source": [
    "plt.figure(figsize=(8,8))\n",
    "sb.lineplot(data=df,x='Year',y='Reviews',hue='Genre');\n",
    "plt.title('CHANGE IN reviews numbersOVER THE YEARS');"
   ]
  },
  {
   "cell_type": "markdown",
   "id": "401c356c",
   "metadata": {
    "papermill": {
     "duration": 0.040649,
     "end_time": "2021-07-11T21:24:27.431159",
     "exception": false,
     "start_time": "2021-07-11T21:24:27.390510",
     "status": "completed"
    },
    "tags": []
   },
   "source": [
    "**fiction books have more reviews than non-fiction cooks except in 2018**"
   ]
  },
  {
   "cell_type": "code",
   "execution_count": 22,
   "id": "dbaa4286",
   "metadata": {
    "execution": {
     "iopub.execute_input": "2021-07-11T21:24:27.660436Z",
     "iopub.status.busy": "2021-07-11T21:24:27.647535Z",
     "iopub.status.idle": "2021-07-11T21:24:28.624035Z",
     "shell.execute_reply": "2021-07-11T21:24:28.623396Z",
     "shell.execute_reply.started": "2021-07-11T21:20:05.400480Z"
    },
    "papermill": {
     "duration": 1.152125,
     "end_time": "2021-07-11T21:24:28.624171",
     "exception": false,
     "start_time": "2021-07-11T21:24:27.472046",
     "status": "completed"
    },
    "tags": []
   },
   "outputs": [
    {
     "data": {
      "image/png": "[encoded data removed]",
      "text/plain": [
       "<Figure size 576x576 with 1 Axes>"
      ]
     },
     "metadata": {
      "needs_background": "light"
     },
     "output_type": "display_data"
    }
   ],
   "source": [
    "plt.figure(figsize=(8,8))\n",
    "sb.lineplot(data=df,x='Year',y='User Rating',hue='Genre');\n",
    "plt.title('CHANGE IN user ratings OVER THE YEARS');"
   ]
  },
  {
   "cell_type": "markdown",
   "id": "386de232",
   "metadata": {
    "papermill": {
     "duration": 0.038264,
     "end_time": "2021-07-11T21:24:28.700536",
     "exception": false,
     "start_time": "2021-07-11T21:24:28.662272",
     "status": "completed"
    },
    "tags": []
   },
   "source": [
    "**fiction books have higher ratings (4.5 to 4.9) and non_fiction between(4.5 to 4.7)\n",
    "fiction books have higher ratings except in 2012**"
   ]
  },
  {
   "cell_type": "markdown",
   "id": "e397a5a7",
   "metadata": {
    "papermill": {
     "duration": 0.037603,
     "end_time": "2021-07-11T21:24:28.776123",
     "exception": false,
     "start_time": "2021-07-11T21:24:28.738520",
     "status": "completed"
    },
    "tags": []
   },
   "source": [
    "# STAT\n"
   ]
  },
  {
   "cell_type": "markdown",
   "id": "2dcd9ddb",
   "metadata": {
    "papermill": {
     "duration": 0.037548,
     "end_time": "2021-07-11T21:24:28.852215",
     "exception": false,
     "start_time": "2021-07-11T21:24:28.814667",
     "status": "completed"
    },
    "tags": []
   },
   "source": [
    "\n",
    "\n"
   ]
  },
  {
   "cell_type": "markdown",
   "id": "7765bb8d",
   "metadata": {
    "execution": {
     "iopub.execute_input": "2021-07-11T21:05:57.336357Z",
     "iopub.status.busy": "2021-07-11T21:05:57.335743Z",
     "iopub.status.idle": "2021-07-11T21:05:57.342645Z",
     "shell.execute_reply": "2021-07-11T21:05:57.341257Z",
     "shell.execute_reply.started": "2021-07-11T21:05:57.336288Z"
    },
    "papermill": {
     "duration": 0.037904,
     "end_time": "2021-07-11T21:24:28.927937",
     "exception": false,
     "start_time": "2021-07-11T21:24:28.890033",
     "status": "completed"
    },
    "tags": []
   },
   "source": [
    "**AVG**\n",
    "\n",
    "* the average rating is : 4.6\n",
    "* the average price is : 13$\n",
    "* the average number of ratings is :12 K\n",
    "\n",
    "\n",
    "\n"
   ]
  },
  {
   "cell_type": "markdown",
   "id": "89816fe2",
   "metadata": {
    "papermill": {
     "duration": 0.03873,
     "end_time": "2021-07-11T21:24:29.005405",
     "exception": false,
     "start_time": "2021-07-11T21:24:28.966675",
     "status": "completed"
    },
    "tags": []
   },
   "source": [
    "**MAX**\n",
    "\n",
    "* the MAX rating is : 4.9\n",
    "* the MAX price is : 105$\n",
    "* the MAX number of ratings is :90 K\n"
   ]
  },
  {
   "cell_type": "markdown",
   "id": "82e410e2",
   "metadata": {
    "papermill": {
     "duration": 0.03795,
     "end_time": "2021-07-11T21:24:29.081941",
     "exception": false,
     "start_time": "2021-07-11T21:24:29.043991",
     "status": "completed"
    },
    "tags": []
   },
   "source": [
    "# summary"
   ]
  },
  {
   "cell_type": "markdown",
   "id": "051626b9",
   "metadata": {
    "execution": {
     "iopub.execute_input": "2021-07-11T21:13:25.785409Z",
     "iopub.status.busy": "2021-07-11T21:13:25.784907Z",
     "iopub.status.idle": "2021-07-11T21:13:25.792827Z",
     "shell.execute_reply": "2021-07-11T21:13:25.790925Z",
     "shell.execute_reply.started": "2021-07-11T21:13:25.785356Z"
    },
    "papermill": {
     "duration": 0.038071,
     "end_time": "2021-07-11T21:24:29.158423",
     "exception": false,
     "start_time": "2021-07-11T21:24:29.120352",
     "status": "completed"
    },
    "tags": []
   },
   "source": [
    "the data is very clean and consistant , there is no null values ."
   ]
  },
  {
   "cell_type": "code",
   "execution_count": null,
   "id": "0f78f29c",
   "metadata": {
    "papermill": {
     "duration": 0.037395,
     "end_time": "2021-07-11T21:24:29.233635",
     "exception": false,
     "start_time": "2021-07-11T21:24:29.196240",
     "status": "completed"
    },
    "tags": []
   },
   "outputs": [],
   "source": []
  }
 ],
 "metadata": {
  "kernelspec": {
   "display_name": "Python 3",
   "language": "python",
   "name": "python3"
  },
  "language_info": {
   "codemirror_mode": {
    "name": "ipython",
    "version": 3
   },
   "file_extension": ".py",
   "mimetype": "text/x-python",
   "name": "python",
   "nbconvert_exporter": "python",
   "pygments_lexer": "ipython3",
   "version": "3.7.10"
  },
  "papermill": {
   "default_parameters": {},
   "duration": 16.760079,
   "end_time": "2021-07-11T21:24:29.981314",
   "environment_variables": {},
   "exception": null,
   "input_path": "__notebook__.ipynb",
   "output_path": "__notebook__.ipynb",
   "parameters": {},
   "start_time": "2021-07-11T21:24:13.221235",
   "version": "2.3.3"
  }
 },
 "nbformat": 4,
 "nbformat_minor": 5
}
